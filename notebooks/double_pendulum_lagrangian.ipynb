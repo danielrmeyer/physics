{
 "cells": [
  {
   "cell_type": "raw",
   "metadata": {},
   "source": [
    "# Lagrangian for the double pendulum\n",
    "\n",
    "## Introduction\n",
    "This is problem 1 from chapter 1 of Course of Theoretical Physics Volume 1 by L.D. Landau and E.M. Lifshits.\n",
    "\n",
    "The problem is to find the lagrangian for a coplanar double pendulum.\n",
    "\n",
    "By hand this problem takes a bit of time mostly due to the large amount of algebra necessary.  Using sympy the problem is fairly simple.  We have to write down the relations between the cartesion coordinates and generalized coordinates, but the computer alebra does the rest for us."
   ]
  },
  {
   "cell_type": "code",
   "execution_count": 1,
   "metadata": {},
   "outputs": [],
   "source": [
    "from sympy import symbols\n",
    "from sympy import Function\n",
    "from sympy import sin, cos\n",
    "from sympy import diff\n",
    "from sympy import simplify\n",
    "from sympy import Rational\n",
    "from sympy import trigsimp\n"
   ]
  },
  {
   "cell_type": "code",
   "execution_count": 2,
   "metadata": {},
   "outputs": [],
   "source": [
    "m_1, m_2, l_1, l_2, g, t = symbols('m_1 m_2 l_1, l_2 g t')\n",
    "phi_1 = Function('phi_1')(t)\n",
    "phi_2 = Function('phi_2')(t)"
   ]
  },
  {
   "cell_type": "code",
   "execution_count": 3,
   "metadata": {},
   "outputs": [],
   "source": [
    "x_1 = l_1 * sin(phi_1)\n",
    "y_1 = -l_1 * cos(phi_1)\n",
    "x_2 = x_1 + l_2*sin(phi_2)\n",
    "y_2 = y_1 - l_2*cos(phi_2)"
   ]
  },
  {
   "cell_type": "code",
   "execution_count": 5,
   "metadata": {},
   "outputs": [],
   "source": [
    "T_1 = Rational(1/2)*m_1*(diff(x_1,t)**2 + diff(y_1,t)**2)\n",
    "T_2 = Rational(1/2)*m_2*(diff(x_2,t)**2 + diff(y_2,t)**2)\n",
    "T = T_1 + T_2\n",
    "U = m_1 * g * y_1 + m_2 * g * y_2\n",
    "L = T - U"
   ]
  },
  {
   "cell_type": "code",
   "execution_count": 6,
   "metadata": {},
   "outputs": [
    {
     "data": {
      "text/latex": [
       "$\\displaystyle g l_{1} m_{1} \\cos{\\left(\\phi_{1}{\\left(t \\right)} \\right)} + g m_{2} \\left(l_{1} \\cos{\\left(\\phi_{1}{\\left(t \\right)} \\right)} + l_{2} \\cos{\\left(\\phi_{2}{\\left(t \\right)} \\right)}\\right) + \\frac{l_{1}^{2} m_{1} \\left(\\frac{d}{d t} \\phi_{1}{\\left(t \\right)}\\right)^{2}}{2} + \\frac{m_{2} \\left(l_{1}^{2} \\left(\\frac{d}{d t} \\phi_{1}{\\left(t \\right)}\\right)^{2} + 2 l_{1} l_{2} \\cos{\\left(\\phi_{1}{\\left(t \\right)} - \\phi_{2}{\\left(t \\right)} \\right)} \\frac{d}{d t} \\phi_{1}{\\left(t \\right)} \\frac{d}{d t} \\phi_{2}{\\left(t \\right)} + l_{2}^{2} \\left(\\frac{d}{d t} \\phi_{2}{\\left(t \\right)}\\right)^{2}\\right)}{2}$"
      ],
      "text/plain": [
       "g*l_1*m_1*cos(phi_1(t)) + g*m_2*(l_1*cos(phi_1(t)) + l_2*cos(phi_2(t))) + l_1**2*m_1*Derivative(phi_1(t), t)**2/2 + m_2*(l_1**2*Derivative(phi_1(t), t)**2 + 2*l_1*l_2*cos(phi_1(t) - phi_2(t))*Derivative(phi_1(t), t)*Derivative(phi_2(t), t) + l_2**2*Derivative(phi_2(t), t)**2)/2"
      ]
     },
     "execution_count": 6,
     "metadata": {},
     "output_type": "execute_result"
    }
   ],
   "source": [
    "trigsimp(L)"
   ]
  },
  {
   "cell_type": "code",
   "execution_count": null,
   "metadata": {},
   "outputs": [],
   "source": []
  }
 ],
 "metadata": {
  "kernelspec": {
   "display_name": "Python 3",
   "language": "python",
   "name": "python3"
  },
  "language_info": {
   "codemirror_mode": {
    "name": "ipython",
    "version": 3
   },
   "file_extension": ".py",
   "mimetype": "text/x-python",
   "name": "python",
   "nbconvert_exporter": "python",
   "pygments_lexer": "ipython3",
   "version": "3.6.8"
  }
 },
 "nbformat": 4,
 "nbformat_minor": 2
}
